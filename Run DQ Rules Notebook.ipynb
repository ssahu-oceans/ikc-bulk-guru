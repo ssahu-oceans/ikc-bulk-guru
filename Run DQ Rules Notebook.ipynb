{
 "cells": [
  {
   "cell_type": "markdown",
   "metadata": {
    "id": "f708ef4a-bf76-46b7-b520-8ae371ee47d1"
   },
   "source": [
    "# Data Quality Rules Execution\n",
    "\n",
    "## Overview\n",
    "This notebook executes IBM Cloud Pak for Data (CPD) data quality rules in parallel for improved performance. It provides:\n",
    "\n",
    "- **Parallel execution** of multiple DQ rules using ThreadPoolExecutor\n",
    "- **Configurable batch sizes** to control cluster load\n",
    "- **Output saved to project** with execution results  \n",
    "\n",
    "## Environment Settings\n",
    "\n",
    "**CPD Host**: The IBM Cloud Pak for Data cluster endpoint where your data quality rules are deployed.\n",
    "\n",
    "**Batch Size**: Maximum number of rules to execute concurrently. Adjust based on your cluster capacity.\n",
    "\n",
    "> ⚠️ **Note**: Higher batch sizes may overwhelm the cluster and cause timeouts. Start with 5 and adjust based on performance."
   ]
  },
  {
   "cell_type": "code",
   "execution_count": null,
   "metadata": {
    "id": "fc98de88-ff44-4611-9954-8b6e8722c6c9"
   },
   "outputs": [],
   "source": [
    "CPD_HOST = \"cp4d-env.company.com\"\n",
    "BATCH_SIZE = 5"
   ]
  },
  {
   "cell_type": "markdown",
   "metadata": {
    "id": "643d102e-7570-4d71-8cd1-61cab5c24aa6"
   },
   "source": [
    "## Required Imports"
   ]
  },
  {
   "cell_type": "code",
   "execution_count": 41,
   "metadata": {
    "id": "47d30135-cb08-421e-a1bd-636c857be5ff"
   },
   "outputs": [],
   "source": [
    "from ibm_watson_studio_lib import access_project_or_space\n",
    "from concurrent.futures import ThreadPoolExecutor, as_completed\n",
    "from datetime import datetime\n",
    "import requests\n",
    "import pandas as pd\n",
    "\n",
    "import urllib3\n",
    "urllib3.disable_warnings()"
   ]
  },
  {
   "cell_type": "markdown",
   "metadata": {
    "id": "03589a74-30a3-4542-9da5-4717fbe175bf"
   },
   "source": [
    "### Initialize Watson Studio library for project access"
   ]
  },
  {
   "cell_type": "code",
   "execution_count": 42,
   "metadata": {
    "id": "09fcadba-8a1a-4bbf-9f5e-c6cd50ef44a0"
   },
   "outputs": [],
   "source": [
    "wslib = access_project_or_space()"
   ]
  },
  {
   "cell_type": "markdown",
   "metadata": {
    "id": "d2fe6448-8c2c-4726-a91f-d725e3250978"
   },
   "source": [
    "### Listing assets by a specific asset type\n",
    "You can use `wslib.assets.list_assets` without a filter to retrieve all assets of a given asset type. Use `wslib.assets.list_asset_types` to get a list of all available asset types. Or you can use the generic asset type asset to retrieve all assets. In this case we need data quality rules."
   ]
  },
  {
   "cell_type": "code",
   "execution_count": 43,
   "metadata": {
    "id": "c091dc71-2c28-412f-85d8-651873c5a45f"
   },
   "outputs": [],
   "source": [
    "dq_rules = wslib.assets.list_assets(\"data_rule\")\n",
    "# wslib.show(dq_rules)\n",
    "# for dq_rule in dq_rules:\n",
    "#    print(dq_rule['asset_id'] + ' - ' + dq_rule['name'])\n"
   ]
  },
  {
   "cell_type": "markdown",
   "metadata": {
    "id": "f92be881-19ba-47f9-a155-9ac4a563d220"
   },
   "source": [
    "## Core Execution Function\n",
    "\n",
    "Executes a single data quality rule via CPD API and returns structured results."
   ]
  },
  {
   "cell_type": "code",
   "execution_count": 6,
   "metadata": {
    "id": "494ee13d-a062-4cbf-9abb-5de6581f6ec5"
   },
   "outputs": [],
   "source": [
    "def execute_rule(token, project_id, rule_id):\n",
    "    try:\n",
    "        url = f\"https://{CPD_HOST}/data_quality/v3/projects/{project_id}/rules/{rule_id}/execute\"\n",
    "        headers = {\n",
    "            'Content-Type': 'application/json',\n",
    "            'Authorization': f'Bearer {token}'\n",
    "        }\n",
    "        \n",
    "        response = requests.post(url, headers=headers, verify=False)\n",
    "        \n",
    "        if response.status_code == 200:\n",
    "            execution_data = response.json()\n",
    "            return {\n",
    "                'success': True,\n",
    "                'rule_id': rule_id,\n",
    "                'rule_name': execution_data.get('name', 'Unknown Rule'),\n",
    "                'status': execution_data.get('status', {}).get('state', 'unknown'),\n",
    "                'job_id': execution_data.get('job', {}).get('id'),\n",
    "                'job_run_id': execution_data.get('job_run', {}).get('id')\n",
    "            }\n",
    "        else:\n",
    "            return {\n",
    "                'success': False,\n",
    "                'rule_id': rule_id,\n",
    "                'error': f\"HTTP {response.status_code}\",\n",
    "                'response': response.text\n",
    "            }\n",
    "            \n",
    "    except Exception as e:\n",
    "        return {\n",
    "            'success': False,\n",
    "            'rule_id': rule_id,\n",
    "            'error': str(e)\n",
    "        }"
   ]
  },
  {
   "cell_type": "markdown",
   "metadata": {
    "id": "77654e63-08ea-4377-ad83-f28beba3f6f7"
   },
   "source": [
    "## Parallel Execution Function\n",
    "\n",
    "Executes multiple data quality rules concurrently using ThreadPoolExecutor."
   ]
  },
  {
   "cell_type": "code",
   "execution_count": 7,
   "metadata": {
    "id": "e9c7abcc-180e-4605-996f-3ac84de72e40"
   },
   "outputs": [],
   "source": [
    "def execute_rules_parallel(token, project_id, dq_rules, max_workers=5):\n",
    "    \"\"\"Execute rules in parallel and return structured results\"\"\"\n",
    "    results = []\n",
    "    \n",
    "    with ThreadPoolExecutor(max_workers=max_workers) as executor:\n",
    "        # Submit all jobs\n",
    "        future_to_rule = {\n",
    "            executor.submit(execute_rule, token, project_id, rule['asset_id']): rule\n",
    "            for rule in dq_rules\n",
    "        }\n",
    "        \n",
    "        # Process as they complete\n",
    "        for future in as_completed(future_to_rule):\n",
    "            rule = future_to_rule[future]\n",
    "            \n",
    "            try:\n",
    "                result = future.result()\n",
    "                results.append((rule, result))\n",
    "            except Exception as exc:\n",
    "                results.append((rule, {'success': False, 'error': str(exc)}))\n",
    "    \n",
    "    return results"
   ]
  },
  {
   "cell_type": "markdown",
   "metadata": {
    "id": "43c91fa6-733e-45f3-8279-8a9ace85fab8"
   },
   "source": [
    "## Results Processing\n",
    "\n",
    "Converts execution results into a pandas DataFrame for analysis and display."
   ]
  },
  {
   "cell_type": "code",
   "execution_count": 8,
   "metadata": {
    "id": "db67fa7e-32e7-4f69-b37a-0003bc128189"
   },
   "outputs": [],
   "source": [
    "def results_to_dataframe(results):\n",
    "    data = []\n",
    "    for rule, result in results:\n",
    "        if result.get('success', False):\n",
    "            data.append({\n",
    "                'Rule Name': rule['name'],\n",
    "                'Rule ID': rule['asset_id'],\n",
    "                'Status': result.get('status', 'unknown'),\n",
    "                'Job ID': result.get('job_id', 'N/A'),\n",
    "                'Job Run ID': result.get('job_run_id', 'N/A'),\n",
    "                'Success': True,\n",
    "                'Error': None\n",
    "            })\n",
    "        else:\n",
    "            data.append({\n",
    "                'Rule Name': rule['name'],\n",
    "                'Rule ID': rule['asset_id'], \n",
    "                'Status': 'Failed',\n",
    "                'Job ID': 'N/A',\n",
    "                'Job Run ID': 'N/A',\n",
    "                'Success': False,\n",
    "                'Error': result.get('error', 'Unknown error')\n",
    "            })\n",
    "    \n",
    "    df = pd.DataFrame(data)\n",
    "    return df"
   ]
  },
  {
   "cell_type": "markdown",
   "metadata": {
    "id": "965dd05e-f68e-4f48-a09e-84ee68bbade6"
   },
   "source": [
    "## Save Results\n",
    "\n",
    "Saves API calls result as a data asset withtin the project as CSV."
   ]
  },
  {
   "cell_type": "code",
   "execution_count": 9,
   "metadata": {
    "id": "9e1a5c6e-1703-49f5-a087-c8449cbdc901"
   },
   "outputs": [],
   "source": [
    "def save_results(pandas_df, prefix=\"dq_run\"):\n",
    "    \"\"\"Save DataFrame with timestamp in filename\"\"\"\n",
    "\n",
    "    timestamp = datetime.now().strftime(\"%Y-%m-%d-%H-%M-%S\")\n",
    "    filename = f\"{prefix}_{timestamp}.csv\"\n",
    "    \n",
    "    # Save the file\n",
    "    wslib.save_data(filename, pandas_df.to_csv(index=False).encode())\n",
    "    print(f\"Results saved to: {filename}\")\n",
    "    \n",
    "    return filename"
   ]
  },
  {
   "cell_type": "markdown",
   "metadata": {
    "id": "e950b752-3d7d-4705-a5a7-e845d45249cf"
   },
   "source": [
    "## Execute Rules and Save Results\n",
    "\n",
    "Main execution block: get current project ID and auth token, run rules in parallel, process results, and save the result."
   ]
  },
  {
   "cell_type": "code",
   "execution_count": 10,
   "metadata": {
    "id": "d1963b67-c1aa-4cbf-bdc6-f9b43b1976c9"
   },
   "outputs": [
    {
     "name": "stdout",
     "output_type": "stream",
     "text": [
      "Results saved to: dq_run_2025-06-18-01-02-38.csv\n"
     ]
    },
    {
     "data": {
      "text/plain": [
       "'dq_run_2025-06-18-01-02-38.csv'"
      ]
     },
     "execution_count": 10,
     "metadata": {},
     "output_type": "execute_result"
    }
   ],
   "source": [
    "project_id = wslib.here.get_ID()\n",
    "token = wslib.auth.get_current_token()\n",
    "\n",
    "results = execute_rules_parallel(token, project_id, dq_rules, max_workers=BATCH_SIZE)\n",
    "df = results_to_dataframe(results)\n",
    "save_results(df)"
   ]
  },
  {
   "cell_type": "markdown",
   "metadata": {
    "id": "bacebc16-0083-4e3b-a648-fdbe9581138a"
   },
   "source": [
    "## Display Results (optional)"
   ]
  },
  {
   "cell_type": "code",
   "execution_count": 11,
   "metadata": {
    "id": "45ae923d-79dc-4c5b-b0db-5dd681d964fa"
   },
   "outputs": [
    {
     "data": {
      "text/html": [
       "<div>\n",
       "<style scoped>\n",
       "    .dataframe tbody tr th:only-of-type {\n",
       "        vertical-align: middle;\n",
       "    }\n",
       "\n",
       "    .dataframe tbody tr th {\n",
       "        vertical-align: top;\n",
       "    }\n",
       "\n",
       "    .dataframe thead th {\n",
       "        text-align: right;\n",
       "    }\n",
       "</style>\n",
       "<table border=\"1\" class=\"dataframe\">\n",
       "  <thead>\n",
       "    <tr style=\"text-align: right;\">\n",
       "      <th></th>\n",
       "      <th>Rule Name</th>\n",
       "      <th>Rule ID</th>\n",
       "      <th>Status</th>\n",
       "      <th>Job ID</th>\n",
       "      <th>Job Run ID</th>\n",
       "      <th>Success</th>\n",
       "      <th>Error</th>\n",
       "    </tr>\n",
       "  </thead>\n",
       "  <tbody>\n",
       "    <tr>\n",
       "      <th>0</th>\n",
       "      <td>dqr data uniqueness - taxgroupdata 2</td>\n",
       "      <td>557ca02b-c7bd-48b7-a3f0-ea530806a12a</td>\n",
       "      <td>scheduled</td>\n",
       "      <td>f357d422-066d-41d9-be3a-7199269a02bf</td>\n",
       "      <td>48604c21-dcb6-4e0f-97fd-7c43f623a787</td>\n",
       "      <td>True</td>\n",
       "      <td>None</td>\n",
       "    </tr>\n",
       "    <tr>\n",
       "      <th>1</th>\n",
       "      <td>dqr data uniqueness - taxgroupdata 1</td>\n",
       "      <td>d5c3d78c-ba91-45f3-89bd-b70195e1f086</td>\n",
       "      <td>scheduled</td>\n",
       "      <td>0518b02f-e40a-478c-af0d-846c7bc3a418</td>\n",
       "      <td>8426306d-08b8-42b2-b332-fade415b608c</td>\n",
       "      <td>True</td>\n",
       "      <td>None</td>\n",
       "    </tr>\n",
       "    <tr>\n",
       "      <th>2</th>\n",
       "      <td>dqr data uniqueness - taxgroupdata</td>\n",
       "      <td>0691bdd1-a991-4a53-86df-250958f8bcb7</td>\n",
       "      <td>scheduled</td>\n",
       "      <td>28a31275-e000-42f8-99b1-dc732753b961</td>\n",
       "      <td>2777b92c-4cdb-46a6-812f-f2383b2ac81b</td>\n",
       "      <td>True</td>\n",
       "      <td>None</td>\n",
       "    </tr>\n",
       "    <tr>\n",
       "      <th>3</th>\n",
       "      <td>dqr data uniqueness - taxdata 1</td>\n",
       "      <td>0f2d8b94-b88b-40ac-8e07-02565b94a4ef</td>\n",
       "      <td>scheduled</td>\n",
       "      <td>160d8059-b668-4c6d-b006-157745d8c92a</td>\n",
       "      <td>44738437-2b61-4ec9-9f7e-9f46ff20b218</td>\n",
       "      <td>True</td>\n",
       "      <td>None</td>\n",
       "    </tr>\n",
       "    <tr>\n",
       "      <th>4</th>\n",
       "      <td>dqr data uniqueness - taxdata</td>\n",
       "      <td>c941f3d0-b7c2-482d-bb02-245e62364f62</td>\n",
       "      <td>scheduled</td>\n",
       "      <td>b6e3650d-ec2c-4c97-8fe3-f925325957e9</td>\n",
       "      <td>dbba4aa7-063f-4cb8-bd8b-1517f1a7b39a</td>\n",
       "      <td>True</td>\n",
       "      <td>None</td>\n",
       "    </tr>\n",
       "    <tr>\n",
       "      <th>5</th>\n",
       "      <td>dqr data uniqueness - taxdata 2</td>\n",
       "      <td>d94d3be5-45d3-48d4-8173-69429d2bea5e</td>\n",
       "      <td>scheduled</td>\n",
       "      <td>6fc1f10c-bc81-493b-946b-3b163aa7516b</td>\n",
       "      <td>1199e639-2402-4d4e-a473-5d5a683a62bd</td>\n",
       "      <td>True</td>\n",
       "      <td>None</td>\n",
       "    </tr>\n",
       "  </tbody>\n",
       "</table>\n",
       "</div>"
      ],
      "text/plain": [
       "                              Rule Name                               Rule ID  \\\n",
       "0  dqr data uniqueness - taxgroupdata 2  557ca02b-c7bd-48b7-a3f0-ea530806a12a   \n",
       "1  dqr data uniqueness - taxgroupdata 1  d5c3d78c-ba91-45f3-89bd-b70195e1f086   \n",
       "2    dqr data uniqueness - taxgroupdata  0691bdd1-a991-4a53-86df-250958f8bcb7   \n",
       "3       dqr data uniqueness - taxdata 1  0f2d8b94-b88b-40ac-8e07-02565b94a4ef   \n",
       "4         dqr data uniqueness - taxdata  c941f3d0-b7c2-482d-bb02-245e62364f62   \n",
       "5       dqr data uniqueness - taxdata 2  d94d3be5-45d3-48d4-8173-69429d2bea5e   \n",
       "\n",
       "      Status                                Job ID  \\\n",
       "0  scheduled  f357d422-066d-41d9-be3a-7199269a02bf   \n",
       "1  scheduled  0518b02f-e40a-478c-af0d-846c7bc3a418   \n",
       "2  scheduled  28a31275-e000-42f8-99b1-dc732753b961   \n",
       "3  scheduled  160d8059-b668-4c6d-b006-157745d8c92a   \n",
       "4  scheduled  b6e3650d-ec2c-4c97-8fe3-f925325957e9   \n",
       "5  scheduled  6fc1f10c-bc81-493b-946b-3b163aa7516b   \n",
       "\n",
       "                             Job Run ID  Success Error  \n",
       "0  48604c21-dcb6-4e0f-97fd-7c43f623a787     True  None  \n",
       "1  8426306d-08b8-42b2-b332-fade415b608c     True  None  \n",
       "2  2777b92c-4cdb-46a6-812f-f2383b2ac81b     True  None  \n",
       "3  44738437-2b61-4ec9-9f7e-9f46ff20b218     True  None  \n",
       "4  dbba4aa7-063f-4cb8-bd8b-1517f1a7b39a     True  None  \n",
       "5  1199e639-2402-4d4e-a473-5d5a683a62bd     True  None  "
      ]
     },
     "metadata": {},
     "output_type": "display_data"
    }
   ],
   "source": [
    "display(df)"
   ]
  },
  {
   "cell_type": "code",
   "execution_count": null,
   "metadata": {
    "id": "425a636a-85ef-43c6-ad15-9ff1caa06e1e"
   },
   "outputs": [],
   "source": []
  }
 ],
 "metadata": {
  "kernelspec": {
   "display_name": "Python 3.11",
   "language": "python",
   "name": "python3"
  },
  "language_info": {
   "codemirror_mode": {
    "name": "ipython",
    "version": 3
   },
   "file_extension": ".py",
   "mimetype": "text/x-python",
   "name": "python",
   "nbconvert_exporter": "python",
   "pygments_lexer": "ipython3",
   "version": "3.11.9"
  }
 },
 "nbformat": 4,
 "nbformat_minor": 4
}
